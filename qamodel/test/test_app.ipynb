{
 "cells": [
  {
   "cell_type": "code",
   "execution_count": 2,
   "metadata": {},
   "outputs": [],
   "source": [
    "import json\n",
    "import requests\n",
    "import time"
   ]
  },
  {
   "cell_type": "code",
   "execution_count": 17,
   "metadata": {},
   "outputs": [],
   "source": [
    "with open(r\"C:\\Users\\victo\\Git\\vbcalinao\\boomai-mle\\qamodel\\train-v2.0.json\") as f:\n",
    "    data = json.load(f)\n"
   ]
  },
  {
   "cell_type": "code",
   "execution_count": 18,
   "metadata": {},
   "outputs": [
    {
     "name": "stdout",
     "output_type": "stream",
     "text": [
      "Number of available questions: 357\n"
     ]
    }
   ],
   "source": [
    "def get_qa(topic, data):\n",
    "    q = []\n",
    "    a = []\n",
    "    for d in data['data']:\n",
    "        if d['title']==topic:\n",
    "            for paragraph in d['paragraphs']:\n",
    "                for qa in paragraph['qas']:\n",
    "                    if not qa['is_impossible']:\n",
    "                        q.append(qa['question'])\n",
    "                        a.append(qa['answers'][0]['text'])\n",
    "            return q,a\n",
    "\n",
    "questions, answers = get_qa(topic='Premier_League', data=data)\n",
    "print(\"Number of available questions: {}\".format(len(questions)))"
   ]
  },
  {
   "cell_type": "code",
   "execution_count": 19,
   "metadata": {},
   "outputs": [
    {
     "name": "stderr",
     "output_type": "stream",
     "text": [
      "#0 building with \"default\" instance using docker driver\n",
      "\n",
      "#1 [internal] load .dockerignore\n",
      "#1 transferring context: 2B done\n",
      "#1 DONE 0.0s\n",
      "\n",
      "#2 [internal] load build definition from Dockerfile\n",
      "#2 transferring dockerfile: 927B 0.0s done\n",
      "#2 DONE 0.0s\n",
      "\n",
      "#3 [internal] load metadata for docker.io/library/python:3.8.12-slim-buster\n",
      "#3 DONE 0.9s\n",
      "\n",
      "#4 [1/9] FROM docker.io/library/python:3.8.12-slim-buster@sha256:26ab58f6b8936fe59303b0ca0e915d5f9e071ef8b9bf7b3d716b4068f11443dc\n",
      "#4 DONE 0.0s\n",
      "\n",
      "#5 [internal] load build context\n",
      "#5 transferring context: 280B done\n",
      "#5 DONE 0.0s\n",
      "\n",
      "#6 [5/9] RUN npm install -g http-server\n",
      "#6 CACHED\n",
      "\n",
      "#7 [7/9] RUN bash download_model.sh\n",
      "#7 CACHED\n",
      "\n",
      "#8 [3/9] RUN apt-get update && apt-get install -y curl\n",
      "#8 CACHED\n",
      "\n",
      "#9 [4/9] RUN curl -fsSL https://deb.nodesource.com/setup_18.x | bash - &&     apt-get install -y nodejs\n",
      "#9 CACHED\n",
      "\n",
      "#10 [6/9] COPY download_model.sh .\n",
      "#10 CACHED\n",
      "\n",
      "#11 [2/9] RUN apt-get update &&    apt-get install -y --no-install-recommends wget &&    rm -rf /var/lib/apt/lists/* &&    pip install --no-cache-dir transformers[torch] uvicorn fastapi\n",
      "#11 CACHED\n",
      "\n",
      "#12 [8/9] COPY app/ app/\n",
      "#12 CACHED\n",
      "\n",
      "#13 [9/9] COPY public/ public/\n",
      "#13 CACHED\n",
      "\n",
      "#14 exporting to image\n",
      "#14 exporting layers done\n",
      "#14 writing image sha256:be56047eca35428d5dad5c6a95846e5cc2def74795d9de2e5394d76dc5a7a7f2 done\n",
      "#14 naming to docker.io/library/qamodel done\n",
      "#14 DONE 0.0s\n",
      "\n",
      "What's Next?\n",
      "  View a summary of image vulnerabilities and recommendations → docker scout quickview\n"
     ]
    }
   ],
   "source": [
    "!docker build ../ -t qamodel \n"
   ]
  },
  {
   "cell_type": "code",
   "execution_count": 20,
   "metadata": {},
   "outputs": [
    {
     "name": "stdout",
     "output_type": "stream",
     "text": [
      "c0554d46e7ffe1a7838ebdce7a9f2f408d44bf2be685c4d2216cd03610b7bf9c\n"
     ]
    }
   ],
   "source": [
    "!docker run -d -p 8000:8000 qamodel"
   ]
  },
  {
   "cell_type": "code",
   "execution_count": 21,
   "metadata": {},
   "outputs": [],
   "source": [
    "time.sleep(10)"
   ]
  },
  {
   "cell_type": "code",
   "execution_count": 23,
   "metadata": {},
   "outputs": [
    {
     "data": {
      "text/plain": [
       "{'message': 'Search context set'}"
      ]
     },
     "execution_count": 23,
     "metadata": {},
     "output_type": "execute_result"
    }
   ],
   "source": [
    "json_data = {\n",
    "  'questions':questions,\n",
    "  'answers':answers,\n",
    "}\n",
    "\n",
    "response = requests.post(\n",
    "  'http://localhost:8000/set_context',\n",
    "  json=json_data\n",
    ")\n",
    "\n",
    "response.json()"
   ]
  },
  {
   "cell_type": "code",
   "execution_count": 45,
   "metadata": {},
   "outputs": [
    {
     "name": "stdout",
     "output_type": "stream",
     "text": [
      "orig_q : How many clubs?\n",
      "best_q : How many club members are there?\n",
      "best_a : The Premier League is a corporation in which the 20 member clubs act as shareholders\n",
      "\n",
      "orig_q : When does the league starts and finishes ?\n",
      "best_q : When does the Premier League have its playing season?\n",
      "best_a : During the course of a season (from August to May)\n",
      "\n",
      "orig_q : Who has the highest number of goals in the Premier League?\n",
      "best_q : Who has the record for most goals in the Premier League?\n",
      "best_a : Newcastle United striker Alan Shearer holds the record for most Premier League goals with 260\n",
      "\n"
     ]
    }
   ],
   "source": [
    "new_questions = [\n",
    "    'How many clubs?',\n",
    "    'When does the league starts and finishes ?',\n",
    "    'Who has the highest number of goals in the Premier League?',\n",
    "]\n",
    "\n",
    "json_data = {\n",
    "  'questions':new_questions,\n",
    "}\n",
    "\n",
    "response = requests.post(\n",
    "  'http://localhost:8000/get_answer',\n",
    "  json=json_data\n",
    ")\n",
    "\n",
    "for d in response.json():\n",
    "  print('\\n'.join([\"{} : {}\".format(k, v) for k,v in d.items()])+'\\n')"
   ]
  }
 ],
 "metadata": {
  "kernelspec": {
   "display_name": "venv",
   "language": "python",
   "name": "python3"
  },
  "language_info": {
   "codemirror_mode": {
    "name": "ipython",
    "version": 3
   },
   "file_extension": ".py",
   "mimetype": "text/x-python",
   "name": "python",
   "nbconvert_exporter": "python",
   "pygments_lexer": "ipython3",
   "version": "3.11.5"
  }
 },
 "nbformat": 4,
 "nbformat_minor": 2
}
